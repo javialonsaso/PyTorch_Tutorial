{
  "cells": [
    {
      "cell_type": "markdown",
      "id": "4dbe9a5d-9be9-4bf7-a95c-bfd7cbcadaa9",
      "metadata": {
        "id": "4dbe9a5d-9be9-4bf7-a95c-bfd7cbcadaa9"
      },
      "source": [
        "# Pytorch RNN Classifier\n",
        "\n",
        "This will follow along the tutorial [here](https://pytorch.org/tutorials/intermediate/char_rnn_classification_tutorial.html) to build a model to classify names using a simple recursive neural network."
      ]
    },
    {
      "cell_type": "markdown",
      "id": "9d2bc26d-3f75-47e0-8c63-66965f1b8964",
      "metadata": {
        "id": "9d2bc26d-3f75-47e0-8c63-66965f1b8964"
      },
      "source": [
        "## 1. Prerequesites"
      ]
    },
    {
      "cell_type": "markdown",
      "id": "6a4171c0-b408-4718-9bb3-ad3ef2e4a23d",
      "metadata": {
        "id": "6a4171c0-b408-4718-9bb3-ad3ef2e4a23d"
      },
      "source": [
        "Check if GPU is available to Torch:"
      ]
    },
    {
      "cell_type": "code",
      "execution_count": 4,
      "id": "9067bcb3-8e33-4a32-80e1-6d755771fe7d",
      "metadata": {
        "colab": {
          "base_uri": "https://localhost:8080/"
        },
        "id": "9067bcb3-8e33-4a32-80e1-6d755771fe7d",
        "outputId": "4a6b632a-19a3-4834-a36a-7b9cc7e39da2"
      },
      "outputs": [
        {
          "output_type": "stream",
          "name": "stdout",
          "text": [
            "Only CPU is available.\n"
          ]
        }
      ],
      "source": [
        "import torch\n",
        "\n",
        "# Is PyTorch capable of use NVidia card?\n",
        "if torch.cuda.is_available():\n",
        "    print(\"Yes, you have CUDA available.\")\n",
        "    device = torch.device('cuda')\n",
        "else:\n",
        "    print(\"Only CPU is available.\")\n",
        "    device = torch.device('cpu')"
      ]
    },
    {
      "cell_type": "markdown",
      "id": "0a112739-be79-417b-9ba0-717864ad859b",
      "metadata": {
        "id": "0a112739-be79-417b-9ba0-717864ad859b"
      },
      "source": [
        "Import relevant libraries:"
      ]
    },
    {
      "cell_type": "code",
      "execution_count": 5,
      "id": "a82ab4dc-36a8-4ca7-9eda-8372e578d223",
      "metadata": {
        "id": "a82ab4dc-36a8-4ca7-9eda-8372e578d223"
      },
      "outputs": [],
      "source": [
        "from pathlib import Path\n",
        "\n",
        "from torch import nn\n",
        "from torch.utils.data import DataLoader # Iterable of samples\n",
        "from torchvision import datasets # Object to access dataset\n",
        "from torchvision.transforms import ToTensor"
      ]
    },
    {
      "cell_type": "markdown",
      "id": "0f7b7134-b38e-49ff-bd78-cdfae8b40d9a",
      "metadata": {
        "id": "0f7b7134-b38e-49ff-bd78-cdfae8b40d9a"
      },
      "source": [
        "Download the dataset:"
      ]
    },
    {
      "cell_type": "code",
      "execution_count": 6,
      "id": "0551112e-a8aa-46f9-beb7-2be3063c2eb3",
      "metadata": {
        "colab": {
          "base_uri": "https://localhost:8080/"
        },
        "id": "0551112e-a8aa-46f9-beb7-2be3063c2eb3",
        "outputId": "87c758f6-0a17-4d2e-b425-02ae1e41a54f"
      },
      "outputs": [
        {
          "output_type": "stream",
          "name": "stdout",
          "text": [
            "--2025-03-26 15:48:55--  https://download.pytorch.org/tutorial/data.zip\n",
            "Resolving download.pytorch.org (download.pytorch.org)... 108.139.29.73, 108.139.29.95, 108.139.29.54, ...\n",
            "Connecting to download.pytorch.org (download.pytorch.org)|108.139.29.73|:443... connected.\n",
            "HTTP request sent, awaiting response... 200 OK\n",
            "Length: 2882130 (2.7M) [application/zip]\n",
            "Saving to: ‘data.zip’\n",
            "\n",
            "data.zip            100%[===================>]   2.75M  --.-KB/s    in 0.06s   \n",
            "\n",
            "2025-03-26 15:48:55 (44.0 MB/s) - ‘data.zip’ saved [2882130/2882130]\n",
            "\n",
            "Archive:  data.zip\n",
            "   creating: data/\n",
            "  inflating: data/eng-fra.txt        \n",
            "   creating: data/names/\n",
            "  inflating: data/names/Arabic.txt   \n",
            "  inflating: data/names/Chinese.txt  \n",
            "  inflating: data/names/Czech.txt    \n",
            "  inflating: data/names/Dutch.txt    \n",
            "  inflating: data/names/English.txt  \n",
            "  inflating: data/names/French.txt   \n",
            "  inflating: data/names/German.txt   \n",
            "  inflating: data/names/Greek.txt    \n",
            "  inflating: data/names/Irish.txt    \n",
            "  inflating: data/names/Italian.txt  \n",
            "  inflating: data/names/Japanese.txt  \n",
            "  inflating: data/names/Korean.txt   \n",
            "  inflating: data/names/Polish.txt   \n",
            "  inflating: data/names/Portuguese.txt  \n",
            "  inflating: data/names/Russian.txt  \n",
            "  inflating: data/names/Scottish.txt  \n",
            "  inflating: data/names/Spanish.txt  \n",
            "  inflating: data/names/Vietnamese.txt  \n"
          ]
        }
      ],
      "source": [
        "!wget -nc https://download.pytorch.org/tutorial/data.zip\n",
        "!unzip -n data.zip"
      ]
    },
    {
      "cell_type": "markdown",
      "id": "a46a0c75-4fc8-43b9-a9b8-dc587b6fbc63",
      "metadata": {
        "id": "a46a0c75-4fc8-43b9-a9b8-dc587b6fbc63"
      },
      "source": [
        "Convert unicode data to plain ASCII. Simplification in characters allow for a much smaller token representation and help for a better classification with much less training data."
      ]
    },
    {
      "cell_type": "code",
      "execution_count": 7,
      "id": "f3f87736-6440-4ce6-92ae-6780c03e17c7",
      "metadata": {
        "colab": {
          "base_uri": "https://localhost:8080/"
        },
        "id": "f3f87736-6440-4ce6-92ae-6780c03e17c7",
        "outputId": "c9b0307d-2aeb-47c4-bae3-5b2b7c729d1c"
      },
      "outputs": [
        {
          "output_type": "stream",
          "name": "stdout",
          "text": [
            "converting '你好世界！' to \n",
            "converting 'Ślusàrski' to Slusarski\n"
          ]
        }
      ],
      "source": [
        "import string\n",
        "import unicodedata\n",
        "\n",
        "allowed_characters = string.ascii_letters + \" .,;'\"\n",
        "\n",
        "# Turn a Unicode string to plain ASCII, thanks to https://stackoverflow.com/a/518232/2809427\n",
        "def unicodeToAscii(s): # Only works for latin alphabets\n",
        "    return ''.join(\n",
        "        c for c in unicodedata.normalize('NFKD', s) # Compatibility (with other characters) decomposition (breakdown char to its decomposed form)\n",
        "\n",
        "        if unicodedata.category(c) != 'Mn' # non-spacing mark\n",
        "        and c in allowed_characters\n",
        "    )\n",
        "\n",
        "# Example of conversion (simplified chinese)\n",
        "print (f\"converting '你好世界！' to {unicodeToAscii('你好世界！')}\")\n",
        "\n",
        "# Working example\n",
        "print (f\"converting 'Ślusàrski' to {unicodeToAscii('Ślusàrski')}\")"
      ]
    },
    {
      "cell_type": "markdown",
      "id": "ff2fb814-d06e-4b81-b283-0b7e142a1172",
      "metadata": {
        "id": "ff2fb814-d06e-4b81-b283-0b7e142a1172"
      },
      "source": [
        "Define functions to one-hot encoding letters."
      ]
    },
    {
      "cell_type": "code",
      "execution_count": 8,
      "id": "e78dd1f2-9c73-4011-8aed-b3570ca68ebb",
      "metadata": {
        "colab": {
          "base_uri": "https://localhost:8080/"
        },
        "id": "e78dd1f2-9c73-4011-8aed-b3570ca68ebb",
        "outputId": "5fc4f4d7-9bb2-46be-8d38-2df8c9d83ac2"
      },
      "outputs": [
        {
          "output_type": "stream",
          "name": "stdout",
          "text": [
            "Char \"a\" is in position (0)\n",
            "Char \"B\" is in position (27)\n",
            "Char \"z\" is in position (25)\n",
            "Char \"1\" is in position (-1)\n",
            "Char \"/\" is in position (-1)\n",
            "Tensor shape of encoded sentence \"Hello\": [5, 1, 57]\n"
          ]
        }
      ],
      "source": [
        "# Find letter index from all_letters, e.g. \"a\" = 0\n",
        "def letterToIndex(letter):\n",
        "    return allowed_characters.find(letter)\n",
        "\n",
        "# Turn a line into a <line_length x 1 x n_letters>,\n",
        "# or an array of one-hot letter vectors\n",
        "def lineToTensor(line):\n",
        "    tensor = torch.zeros(len(line), 1, len(allowed_characters))\n",
        "    for li, letter in enumerate(line):\n",
        "        tensor[li][0][letterToIndex(letter)] = 1\n",
        "    return tensor\n",
        "\n",
        "# Example\n",
        "for x in ['a', 'B', 'z' ,'1', '/']:\n",
        "    print(f\"Char \\\"{x}\\\" is in position ({letterToIndex(x)})\")\n",
        "\n",
        "# One-Hot encoding example\n",
        "print(f\"Tensor shape of encoded sentence \\\"Hello\\\": {list(lineToTensor('Hello').shape)}\")"
      ]
    },
    {
      "cell_type": "markdown",
      "source": [
        "## 2. Data loading"
      ],
      "metadata": {
        "id": "QGSOsx1dfC_a"
      },
      "id": "QGSOsx1dfC_a"
    },
    {
      "cell_type": "markdown",
      "id": "6e0706a9-a08e-41ed-91c5-01d36cd30508",
      "metadata": {
        "id": "6e0706a9-a08e-41ed-91c5-01d36cd30508"
      },
      "source": [
        "In order to use our data, we will use [Dataset](https://pytorch.org/docs/stable/data.html#torch.utils.data.Dataset) type classes as an interface to interact with out data."
      ]
    },
    {
      "cell_type": "code",
      "execution_count": 9,
      "id": "305581aa-e217-420f-8bf8-d8695a891684",
      "metadata": {
        "id": "305581aa-e217-420f-8bf8-d8695a891684"
      },
      "outputs": [],
      "source": [
        "from io import open\n",
        "import glob\n",
        "import os\n",
        "import time\n",
        "\n",
        "import torch\n",
        "from torch.utils.data import Dataset\n",
        "\n",
        "class NamesDataset(Dataset):\n",
        "\n",
        "    def __init__(self, data_dir):\n",
        "        self.data_dir = data_dir # for provenance of the dataset\n",
        "        self.load_time = time.localtime # for provenance of the dataset\n",
        "        labels_set = set() #set of all classes\n",
        "\n",
        "        self.data = []\n",
        "        self.data_tensors = []\n",
        "        self.labels = []\n",
        "        self.labels_tensors = []\n",
        "\n",
        "        #read all the ``.txt`` files in the specified directory\n",
        "        text_files = glob.glob(os.path.join(data_dir, '*.txt'))\n",
        "        for filename in text_files:\n",
        "            label = os.path.splitext(os.path.basename(filename))[0] # 'Arabic.txt' -> ['Arabic', '.txt']\n",
        "            labels_set.add(label)\n",
        "            lines = open(filename, encoding='utf-8').read().strip().split('\\n')\n",
        "            for name in lines:\n",
        "                self.data.append(name) # Save input name as is\n",
        "                self.data_tensors.append(lineToTensor(name)) # Save input name as one-hot encoded tensor\n",
        "                self.labels.append(label) # Save file name as label\n",
        "\n",
        "        #Cache the tensor representation of the labels\n",
        "        self.labels_uniq = list(labels_set) # Parse label set into a list of unique elements\n",
        "        for idx in range(len(self.labels)):\n",
        "            temp_tensor = torch.tensor([self.labels_uniq.index(self.labels[idx])], dtype=torch.long)\n",
        "            self.labels_tensors.append(temp_tensor)\n",
        "\n",
        "    def __len__(self):\n",
        "        return len(self.data)\n",
        "\n",
        "    def __getitem__(self, idx):\n",
        "        data_item = self.data[idx]\n",
        "        data_label = self.labels[idx]\n",
        "        data_tensor = self.data_tensors[idx]\n",
        "        label_tensor = self.labels_tensors[idx]\n",
        "\n",
        "        return label_tensor, data_tensor, data_label, data_item"
      ]
    },
    {
      "cell_type": "code",
      "execution_count": 10,
      "id": "202db8ba-9767-482d-a7c0-bf9ba1d54ca1",
      "metadata": {
        "colab": {
          "base_uri": "https://localhost:8080/"
        },
        "id": "202db8ba-9767-482d-a7c0-bf9ba1d54ca1",
        "outputId": "db60bc02-2a5a-4d1d-8876-7f9a45161889"
      },
      "outputs": [
        {
          "output_type": "stream",
          "name": "stdout",
          "text": [
            "loaded 20074 items of data\n",
            "example = (tensor([7]), tensor([[[0., 0., 0., 0., 0., 0., 0., 0., 0., 0., 0., 0., 0., 0., 0., 0., 0.,\n",
            "          0., 0., 0., 0., 0., 0., 0., 0., 0., 1., 0., 0., 0., 0., 0., 0., 0.,\n",
            "          0., 0., 0., 0., 0., 0., 0., 0., 0., 0., 0., 0., 0., 0., 0., 0., 0.,\n",
            "          0., 0., 0., 0., 0., 0.]],\n",
            "\n",
            "        [[0., 1., 0., 0., 0., 0., 0., 0., 0., 0., 0., 0., 0., 0., 0., 0., 0.,\n",
            "          0., 0., 0., 0., 0., 0., 0., 0., 0., 0., 0., 0., 0., 0., 0., 0., 0.,\n",
            "          0., 0., 0., 0., 0., 0., 0., 0., 0., 0., 0., 0., 0., 0., 0., 0., 0.,\n",
            "          0., 0., 0., 0., 0., 0.]],\n",
            "\n",
            "        [[0., 1., 0., 0., 0., 0., 0., 0., 0., 0., 0., 0., 0., 0., 0., 0., 0.,\n",
            "          0., 0., 0., 0., 0., 0., 0., 0., 0., 0., 0., 0., 0., 0., 0., 0., 0.,\n",
            "          0., 0., 0., 0., 0., 0., 0., 0., 0., 0., 0., 0., 0., 0., 0., 0., 0.,\n",
            "          0., 0., 0., 0., 0., 0.]],\n",
            "\n",
            "        [[1., 0., 0., 0., 0., 0., 0., 0., 0., 0., 0., 0., 0., 0., 0., 0., 0.,\n",
            "          0., 0., 0., 0., 0., 0., 0., 0., 0., 0., 0., 0., 0., 0., 0., 0., 0.,\n",
            "          0., 0., 0., 0., 0., 0., 0., 0., 0., 0., 0., 0., 0., 0., 0., 0., 0.,\n",
            "          0., 0., 0., 0., 0., 0.]],\n",
            "\n",
            "        [[0., 0., 0., 0., 0., 0., 0., 0., 0., 0., 0., 0., 0., 0., 0., 0., 0.,\n",
            "          0., 1., 0., 0., 0., 0., 0., 0., 0., 0., 0., 0., 0., 0., 0., 0., 0.,\n",
            "          0., 0., 0., 0., 0., 0., 0., 0., 0., 0., 0., 0., 0., 0., 0., 0., 0.,\n",
            "          0., 0., 0., 0., 0., 0.]]]), 'English', 'Abbas')\n"
          ]
        }
      ],
      "source": [
        "alldata = NamesDataset(\"data/names\")\n",
        "print(f\"loaded {len(alldata)} items of data\")\n",
        "print(f\"example = {alldata[0]}\")"
      ]
    },
    {
      "cell_type": "markdown",
      "source": [
        "As seen in the figure below, the frequency of each label is consderably different. There's a disproportionate amount of russian names than any other language. Also, asian names have a very low frequency. This may impact the results as the model will tend towards the more frequent data labels."
      ],
      "metadata": {
        "id": "SMkM9AZPhF03"
      },
      "id": "SMkM9AZPhF03"
    },
    {
      "cell_type": "code",
      "source": [
        "import matplotlib.pyplot as plt\n",
        "\n",
        "x,cc = torch.tensor(alldata.labels_tensors).unique(return_counts = True)\n",
        "\n",
        "px = 1/plt.rcParams['figure.dpi']  # pixel in inches\n",
        "fig, ax = plt.subplots(figsize = (px*800, px*300))\n",
        "ax.bar(x, cc, width = 1, edgecolor = \"black\", linewidth = 0)\n",
        "\n",
        "ax.set_xticks(x, labels = [alldata.labels_uniq[i] for i in x], rotation = 45)\n",
        "plt.show()"
      ],
      "metadata": {
        "colab": {
          "base_uri": "https://localhost:8080/",
          "height": 345
        },
        "id": "LR_Xrv3hcEKO",
        "outputId": "4b180a24-e305-4ad5-ac1c-7d197aaaf1ef"
      },
      "id": "LR_Xrv3hcEKO",
      "execution_count": 11,
      "outputs": [
        {
          "output_type": "display_data",
          "data": {
            "text/plain": [
              "<Figure size 800x300 with 1 Axes>"
            ],
            "image/png": "[encoded data removed]"
          },
          "metadata": {}
        }
      ]
    },
    {
      "cell_type": "markdown",
      "source": [
        "We will use [random_split](https://pytorch.org/docs/stable/data.html#torch.utils.data.random_split) to split our data. In order to give a reproducible train and test sets, we will specify the generator object to use to split the data. The seed is the only element required to lock the split."
      ],
      "metadata": {
        "id": "2gpvHNo_i2xS"
      },
      "id": "2gpvHNo_i2xS"
    },
    {
      "cell_type": "code",
      "source": [
        "train_set, test_set = torch.utils.data.random_split( # Split data in 85/15\n",
        "    alldata,\n",
        "     [.85, .15],\n",
        "    generator = torch.Generator(device=device).manual_seed(2024) #\n",
        "    )\n",
        "\n",
        "print(f\"train examples = {len(train_set)}, validation examples = {len(test_set)}\")"
      ],
      "metadata": {
        "id": "FVRTcm3YrNXN",
        "colab": {
          "base_uri": "https://localhost:8080/"
        },
        "outputId": "463bba0f-2d48-4a1d-cff7-c8ddc10973a9"
      },
      "id": "FVRTcm3YrNXN",
      "execution_count": 12,
      "outputs": [
        {
          "output_type": "stream",
          "name": "stdout",
          "text": [
            "train examples = 17063, validation examples = 3011\n"
          ]
        }
      ]
    },
    {
      "cell_type": "markdown",
      "source": [
        "## 3. Model definition"
      ],
      "metadata": {
        "id": "AhyXmmdBfIKX"
      },
      "id": "AhyXmmdBfIKX"
    },
    {
      "cell_type": "markdown",
      "source": [
        "We will now create our model using a class. For this classification model we will be using a RNN which accepts a sequence as input and reiterates model parameters to compute the output for each iteration making use of a hidden layer, an additional input on each iteration which carries information of previous elements of the sequence to the actual element in question.\n",
        "\n",
        "In this particular model, we will be using the last state of the hidden layer (the actual output layer of the RNN in our model) to get the probability for each class."
      ],
      "metadata": {
        "id": "4J5FMNVme6En"
      },
      "id": "4J5FMNVme6En"
    },
    {
      "cell_type": "code",
      "source": [
        "import torch.nn as nn\n",
        "import torch.nn.functional as F\n",
        "\n",
        "class CharRNN(nn.Module):\n",
        "    def __init__(self, input_size, hidden_size, output_size):\n",
        "        super(CharRNN, self).__init__()\n",
        "\n",
        "        self.rnn = nn.RNN(input_size, hidden_size)\n",
        "        self.h2o = nn.Linear(hidden_size, output_size)\n",
        "        self.softmax = nn.LogSoftmax(dim=1)\n",
        "\n",
        "    def forward(self, line_tensor):\n",
        "        rnn_out, hidden = self.rnn(line_tensor)\n",
        "        output = self.h2o(hidden[0]) # We take the output from the hidden layer\n",
        "        output = self.softmax(output)\n",
        "\n",
        "        return output"
      ],
      "metadata": {
        "id": "i0dFH0w0jbRO"
      },
      "id": "i0dFH0w0jbRO",
      "execution_count": 13,
      "outputs": []
    },
    {
      "cell_type": "code",
      "source": [
        "# Model dimensions\n",
        "rnn = CharRNN(\n",
        "      input_size = len(allowed_characters),\n",
        "      hidden_size = 158,\n",
        "      output_size = len(alldata.labels_uniq))"
      ],
      "metadata": {
        "id": "F53XJkcdXmGR"
      },
      "id": "F53XJkcdXmGR",
      "execution_count": 14,
      "outputs": []
    },
    {
      "cell_type": "markdown",
      "source": [
        "We define a function to extract the label from the `LogSoftmax` output of the last layer of the model."
      ],
      "metadata": {
        "id": "Ms6AsfPmvBPu"
      },
      "id": "Ms6AsfPmvBPu"
    },
    {
      "cell_type": "code",
      "source": [
        "def label_from_output(output, output_labels):\n",
        "    top_n, top_i = output.topk(1)\n",
        "    label_i = top_i[0].item()\n",
        "    return output_labels[label_i], label_i\n",
        "\n",
        "input = lineToTensor('Albert')\n",
        "output = rnn(input) # This is equivalent to ``output = rnn.forward(input)``\n",
        "print(output)\n",
        "print(label_from_output(output, alldata.labels_uniq))"
      ],
      "metadata": {
        "colab": {
          "base_uri": "https://localhost:8080/"
        },
        "id": "GwhQ2wAqdD8_",
        "outputId": "5c293126-a4c3-4a66-f8d8-2420512a025f"
      },
      "id": "GwhQ2wAqdD8_",
      "execution_count": 15,
      "outputs": [
        {
          "output_type": "stream",
          "name": "stdout",
          "text": [
            "tensor([[-2.9869, -2.8381, -2.8635, -2.8718, -2.8597, -2.8588, -2.7963, -2.8942,\n",
            "         -2.8673, -2.9959, -3.0257, -2.8535, -2.8924, -2.8244, -2.8211, -2.8954,\n",
            "         -2.9964, -2.9231]], grad_fn=<LogSoftmaxBackward0>)\n",
            "('Czech', 6)\n"
          ]
        }
      ]
    },
    {
      "cell_type": "markdown",
      "source": [
        "## 4. Model training\n",
        "\n",
        "We now define a generic function to train our model in mini-batches."
      ],
      "metadata": {
        "id": "0q8ZHoynv2LI"
      },
      "id": "0q8ZHoynv2LI"
    },
    {
      "cell_type": "code",
      "source": [
        "import random\n",
        "import numpy as np\n",
        "\n",
        "def train(rnn, training_data, n_epoch = 10, n_batch_size = 64, report_every = 50, learning_rate = 0.2, criterion = nn.NLLLoss()):\n",
        "    \"\"\"\n",
        "    Learn on a batch of training_data for a specified number of iterations and reporting thresholds\n",
        "    \"\"\"\n",
        "    # Keep track of losses for plotting\n",
        "    current_loss = 0\n",
        "    all_losses = []\n",
        "    rnn.train()\n",
        "    optimizer = torch.optim.SGD(rnn.parameters(), lr=learning_rate)\n",
        "\n",
        "    start = time.time()\n",
        "    print(f\"training on data set with n = {len(training_data)}\")\n",
        "\n",
        "    for iter in range(1, n_epoch + 1):\n",
        "        rnn.zero_grad() # clear the gradients\n",
        "\n",
        "        # create some minibatches\n",
        "        # we cannot use dataloaders because each of our names is a different length\n",
        "        batches = list(range(len(training_data)))\n",
        "        random.shuffle(batches)\n",
        "        batches = np.array_split(batches, len(batches) //n_batch_size )\n",
        "\n",
        "        for idx, batch in enumerate(batches):\n",
        "            batch_loss = 0\n",
        "            # Iterate over each element of batch to train and add total batch loss\n",
        "            for i in batch: #for each example in this batch\n",
        "                (label_tensor, text_tensor, label, text) = training_data[i]\n",
        "                output = rnn.forward(text_tensor)\n",
        "                loss = criterion(output, label_tensor)\n",
        "                batch_loss += loss\n",
        "\n",
        "            # optimize parameters\n",
        "            batch_loss.backward()\n",
        "            nn.utils.clip_grad_norm_(rnn.parameters(), 3) # Avoid exploding gradient\n",
        "            optimizer.step() # Update parameters\n",
        "            optimizer.zero_grad() # Set loss function gradient values back to 0\n",
        "\n",
        "            current_loss += batch_loss.item() / len(batch) # Update mean loss value for batch\n",
        "\n",
        "        all_losses.append(current_loss / len(batches) )\n",
        "        if iter % report_every == 0:\n",
        "            print(f\"{iter} ({iter / n_epoch:.0%}): \\t average batch loss = {all_losses[-1]}\")\n",
        "        current_loss = 0\n",
        "\n",
        "    return all_losses\n"
      ],
      "metadata": {
        "id": "uvupSdp-vzKk"
      },
      "id": "uvupSdp-vzKk",
      "execution_count": 16,
      "outputs": []
    },
    {
      "cell_type": "code",
      "source": [
        "mfile = Path(\"rnn-01.bin\")\n",
        "if mfile.exists():\n",
        "  rnn = torch.load(mfile)\n",
        "else:\n",
        "  start = time.time()\n",
        "  all_losses = train(rnn, train_set, n_epoch=27, learning_rate=0.15, report_every=5)\n",
        "  end = time.time()\n",
        "  print(f\"training took {end-start}s\")"
      ],
      "metadata": {
        "colab": {
          "base_uri": "https://localhost:8080/"
        },
        "id": "--ZhZOfLH-C4",
        "outputId": "ae01f253-ef59-4e1b-8275-60bdfbf0d699"
      },
      "id": "--ZhZOfLH-C4",
      "execution_count": 17,
      "outputs": [
        {
          "output_type": "stream",
          "name": "stdout",
          "text": [
            "training on data set with n = 17063\n",
            "5 (19%): \t average batch loss = 0.8954794301281367\n",
            "10 (37%): \t average batch loss = 0.7184265073028998\n",
            "15 (56%): \t average batch loss = 0.5918119772432717\n",
            "20 (74%): \t average batch loss = 0.4998090745069996\n",
            "25 (93%): \t average batch loss = 0.42063938335506407\n",
            "training took 601.2007739543915s\n"
          ]
        }
      ]
    },
    {
      "cell_type": "code",
      "source": [
        "import matplotlib.pyplot as plt\n",
        "import matplotlib.ticker as ticker\n",
        "\n",
        "plt.figure()\n",
        "plt.plot(all_losses)\n",
        "plt.show()"
      ],
      "metadata": {
        "colab": {
          "base_uri": "https://localhost:8080/",
          "height": 430
        },
        "id": "WcSFGQixy62J",
        "outputId": "1f89ccb6-b29c-46c9-a4a2-69051f73073e"
      },
      "id": "WcSFGQixy62J",
      "execution_count": 18,
      "outputs": [
        {
          "output_type": "display_data",
          "data": {
            "text/plain": [
              "<Figure size 640x480 with 1 Axes>"
            ],
            "image/png": "[encoded data removed]"
          },
          "metadata": {}
        }
      ]
    },
    {
      "cell_type": "markdown",
      "source": [
        "## 5. Evaluation"
      ],
      "metadata": {
        "id": "oRoUoKyTzDBf"
      },
      "id": "oRoUoKyTzDBf"
    },
    {
      "cell_type": "code",
      "source": [
        "def evaluate(rnn, testing_data, classes):\n",
        "    confusion = torch.zeros(len(classes), len(classes))\n",
        "\n",
        "    rnn.eval() #set to eval mode\n",
        "    with torch.no_grad(): # do not record the gradients during eval phase\n",
        "        for i in range(len(testing_data)):\n",
        "            (label_tensor, text_tensor, label, text) = testing_data[i]\n",
        "            output = rnn(text_tensor)\n",
        "            guess, guess_i = label_from_output(output, classes)\n",
        "            label_i = classes.index(label)\n",
        "            confusion[label_i][guess_i] += 1\n",
        "\n",
        "    # Normalize by dividing every row by its sum\n",
        "    for i in range(len(classes)):\n",
        "        denom = confusion[i].sum()\n",
        "        if denom > 0:\n",
        "            confusion[i] = confusion[i] / denom\n",
        "\n",
        "    # Set up plot\n",
        "    fig = plt.figure()\n",
        "    ax = fig.add_subplot(111)\n",
        "    cax = ax.matshow(confusion.cpu().numpy()) #numpy uses cpu here so we need to use a cpu version\n",
        "    fig.colorbar(cax)\n",
        "\n",
        "    # Set up axes\n",
        "    ax.set_xticks(np.arange(len(classes)), labels=classes, rotation=90)\n",
        "    ax.set_yticks(np.arange(len(classes)), labels=classes)\n",
        "\n",
        "    # Force label at every tick\n",
        "    ax.xaxis.set_major_locator(ticker.MultipleLocator(1))\n",
        "    ax.yaxis.set_major_locator(ticker.MultipleLocator(1))\n",
        "\n",
        "    # sphinx_gallery_thumbnail_number = 2\n",
        "    plt.show()\n",
        "\n",
        "\n",
        "\n",
        "evaluate(rnn, test_set, classes=alldata.labels_uniq)"
      ],
      "metadata": {
        "colab": {
          "base_uri": "https://localhost:8080/",
          "height": 506
        },
        "id": "oN4SydZ7zE8d",
        "outputId": "2ebb3a42-2525-4075-d253-b2852b032854"
      },
      "id": "oN4SydZ7zE8d",
      "execution_count": 19,
      "outputs": [
        {
          "output_type": "display_data",
          "data": {
            "text/plain": [
              "<Figure size 640x480 with 2 Axes>"
            ],
            "image/png": "[encoded data removed]"
          },
          "metadata": {}
        }
      ]
    },
    {
      "cell_type": "markdown",
      "source": [
        "From this, we can extract some information regarding the efectiveness of the model.\n",
        "\n",
        "First, we can observe highest scores on the diagonal, i.e. most predictions are correctly being classified.\n",
        "\n",
        "Second, in the case of Irish, French and Scotish names are wrongly classified as English. This comes from the fact that these subsets are relatively small with respect to others and also similarities between the names since France and Great Britain share commonalities in language but also Scotland and Ireland specially since both are English speaking countries.\n",
        "\n",
        "Lastly, the model doesn't work well with east asian countries. We notice Vietnamese and Korean names classified mostly as Chinese for similar reasons explained in the case with English, Scotish, Irish and French names.\n",
        "\n",
        "\n",
        "The dataset is small (only 20,074 data points) and the simplicity of the model are limiting reasons for the effectiveness of the model. Small variations within names of similar speaking languages are not picked by the model, and as such it would require a more robust algorithm."
      ],
      "metadata": {
        "id": "rPoQQNFFNVzs"
      },
      "id": "rPoQQNFFNVzs"
    },
    {
      "cell_type": "code",
      "source": [],
      "metadata": {
        "id": "EfdFy3D9ReLS"
      },
      "id": "EfdFy3D9ReLS",
      "execution_count": null,
      "outputs": []
    }
  ],
  "metadata": {
    "kernelspec": {
      "display_name": "Python 3 (ipykernel)",
      "language": "python",
      "name": "python3"
    },
    "language_info": {
      "codemirror_mode": {
        "name": "ipython",
        "version": 3
      },
      "file_extension": ".py",
      "mimetype": "text/x-python",
      "name": "python",
      "nbconvert_exporter": "python",
      "pygments_lexer": "ipython3",
      "version": "3.12.8"
    },
    "colab": {
      "provenance": []
    }
  },
  "nbformat": 4,
  "nbformat_minor": 5
}